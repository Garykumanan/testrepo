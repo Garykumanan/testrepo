{
 "cells": [
  {
   "cell_type": "markdown",
   "id": "f06bae71",
   "metadata": {},
   "source": [
    "# Data Science Tools and Ecosystem"
   ]
  },
  {
   "cell_type": "markdown",
   "id": "f082df3b",
   "metadata": {},
   "source": [
    "In this notebook, Data Science Tools and Ecosystem are summarized."
   ]
  },
  {
   "cell_type": "markdown",
   "id": "d55df82e",
   "metadata": {},
   "source": [
    "**Objectives:**\n",
    "- Understand basic arithmetic expressions in Python\n",
    "- Learn to use various data science tools and environments\n",
    "- Identify popular programming languages for Data Science\n",
    "- Explore the key takeaways from data science concepts\n",
    "- Practice evaluating and interpreting arithmetic operations in Python"
   ]
  },
  {
   "cell_type": "markdown",
   "id": "7d234cda",
   "metadata": {},
   "source": [
    "Some of the popular languages that Data Scientists use are:"
   ]
  },
  {
   "cell_type": "markdown",
   "id": "86315711",
   "metadata": {},
   "source": [
    "Python\n",
    "SQL\n",
    "R\n",
    "Scala\n",
    "Julia"
   ]
  },
  {
   "cell_type": "markdown",
   "id": "341ed5ea",
   "metadata": {},
   "source": [
    "Create a markdown cell to list data science libraries"
   ]
  },
  {
   "cell_type": "markdown",
   "id": "1dc0a7e2",
   "metadata": {},
   "source": [
    "Pandas\n",
    "NumPy\n",
    "Matplotlib\n",
    "Seaborn"
   ]
  },
  {
   "cell_type": "markdown",
   "id": "a88c7991",
   "metadata": {},
   "source": [
    "| Data Science Tools |\n",
    "|--------------------|\n",
    "| Jupyter Notebook   |\n",
    "| RStudio            |\n",
    "| Apache Zeppelin    |\n"
   ]
  },
  {
   "cell_type": "markdown",
   "id": "336ef399",
   "metadata": {},
   "source": [
    "### Below are a few examples of evaluating arithmetic expressions in Python"
   ]
  },
  {
   "cell_type": "code",
   "execution_count": 4,
   "id": "336a1793",
   "metadata": {},
   "outputs": [
    {
     "data": {
      "text/plain": [
       "17"
      ]
     },
     "execution_count": 4,
     "metadata": {},
     "output_type": "execute_result"
    }
   ],
   "source": [
    "# This a simple arithmetic expression to mutiply then add integers\n",
    "(3*4)+5"
   ]
  },
  {
   "cell_type": "code",
   "execution_count": 5,
   "id": "9582d445",
   "metadata": {},
   "outputs": [
    {
     "data": {
      "text/plain": [
       "3.3333333333333335"
      ]
     },
     "execution_count": 5,
     "metadata": {},
     "output_type": "execute_result"
    }
   ],
   "source": [
    "#  This will convert 200 minutes to hours by diving by 60\n",
    "200/60"
   ]
  },
  {
   "cell_type": "markdown",
   "id": "6e955c42",
   "metadata": {},
   "source": [
    "## Author\n",
    "Kumanan"
   ]
  },
  {
   "cell_type": "code",
   "execution_count": null,
   "id": "c2bc9186",
   "metadata": {},
   "outputs": [],
   "source": []
  }
 ],
 "metadata": {
  "kernelspec": {
   "display_name": "Python 3 (ipykernel)",
   "language": "python",
   "name": "python3"
  },
  "language_info": {
   "codemirror_mode": {
    "name": "ipython",
    "version": 3
   },
   "file_extension": ".py",
   "mimetype": "text/x-python",
   "name": "python",
   "nbconvert_exporter": "python",
   "pygments_lexer": "ipython3",
   "version": "3.11.5"
  }
 },
 "nbformat": 4,
 "nbformat_minor": 5
}
